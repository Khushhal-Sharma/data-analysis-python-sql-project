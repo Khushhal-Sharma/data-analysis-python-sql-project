{
 "cells": [
  {
   "cell_type": "code",
   "execution_count": 19,
   "id": "88e09c57-a775-4949-9986-6fc998b074c4",
   "metadata": {},
   "outputs": [],
   "source": [
    "import pandas as pd\n",
    "import numpy as np\n",
    "import matplotlib.pyplot as plt\n",
    "import seaborn as sns\n",
    "import mysql.connector\n",
    "\n",
    "\n",
    "\n"
   ]
  },
  {
   "cell_type": "code",
   "execution_count": 20,
   "id": "310d57c4-5034-4dab-b9fe-28bee36539f8",
   "metadata": {},
   "outputs": [
    {
     "name": "stdout",
     "output_type": "stream",
     "text": [
      "Requirement already satisfied: sqlalchemy in c:\\users\\khush\\anaconda3\\lib\\site-packages (2.0.34)Note: you may need to restart the kernel to use updated packages.\n",
      "\n",
      "Requirement already satisfied: pymysql in c:\\users\\khush\\anaconda3\\lib\\site-packages (1.1.1)\n",
      "Requirement already satisfied: typing-extensions>=4.6.0 in c:\\users\\khush\\appdata\\roaming\\python\\python312\\site-packages (from sqlalchemy) (4.12.2)\n",
      "Requirement already satisfied: greenlet!=0.4.17 in c:\\users\\khush\\anaconda3\\lib\\site-packages (from sqlalchemy) (3.0.1)\n"
     ]
    }
   ],
   "source": [
    "pip install sqlalchemy pymysql\n"
   ]
  },
  {
   "cell_type": "code",
   "execution_count": 21,
   "id": "77a2540f-3a2d-4679-a4e4-5fcaf9c84d51",
   "metadata": {},
   "outputs": [
    {
     "name": "stdout",
     "output_type": "stream",
     "text": [
      "Both installed and imported successfully!\n"
     ]
    }
   ],
   "source": [
    "from sqlalchemy import create_engine\n",
    "import pymysql\n",
    "\n",
    "print(\"Both installed and imported successfully!\")\n"
   ]
  },
  {
   "cell_type": "code",
   "execution_count": 22,
   "id": "12f24678-94d5-40e2-aa20-8465f021d1e5",
   "metadata": {},
   "outputs": [],
   "source": [
    "customers = pd.read_csv(r\"C:\\Users\\khush\\Downloads\\data for project\\customers.csv\")\n",
    "orders = pd.read_csv(r\"C:\\Users\\khush\\Downloads\\data for project\\orders.csv\")\n",
    "order_items = pd.read_csv(r\"C:\\Users\\khush\\Downloads\\data for project\\order_items.csv\")\n",
    "products = pd.read_csv(r\"C:\\Users\\khush\\Downloads\\data for project\\products.csv\")\n",
    "payments = pd.read_csv(r\"C:\\Users\\khush\\Downloads\\data for project\\payments.csv\")\n"
   ]
  },
  {
   "cell_type": "code",
   "execution_count": 23,
   "id": "e467c618-057a-473e-aa7e-5c61d399e289",
   "metadata": {},
   "outputs": [
    {
     "data": {
      "text/plain": [
       "1000"
      ]
     },
     "execution_count": 23,
     "metadata": {},
     "output_type": "execute_result"
    }
   ],
   "source": [
    "len(customers)"
   ]
  },
  {
   "cell_type": "code",
   "execution_count": 24,
   "id": "aa624b6b-7bcc-45b1-923e-d97d965b5375",
   "metadata": {},
   "outputs": [
    {
     "data": {
      "text/html": [
       "<div>\n",
       "<style scoped>\n",
       "    .dataframe tbody tr th:only-of-type {\n",
       "        vertical-align: middle;\n",
       "    }\n",
       "\n",
       "    .dataframe tbody tr th {\n",
       "        vertical-align: top;\n",
       "    }\n",
       "\n",
       "    .dataframe thead th {\n",
       "        text-align: right;\n",
       "    }\n",
       "</style>\n",
       "<table border=\"1\" class=\"dataframe\">\n",
       "  <thead>\n",
       "    <tr style=\"text-align: right;\">\n",
       "      <th></th>\n",
       "      <th>customer_id</th>\n",
       "      <th>customer_name</th>\n",
       "      <th>region</th>\n",
       "    </tr>\n",
       "  </thead>\n",
       "  <tbody>\n",
       "    <tr>\n",
       "      <th>0</th>\n",
       "      <td>1</td>\n",
       "      <td>Customer_1</td>\n",
       "      <td>East</td>\n",
       "    </tr>\n",
       "    <tr>\n",
       "      <th>1</th>\n",
       "      <td>2</td>\n",
       "      <td>Customer_2</td>\n",
       "      <td>West</td>\n",
       "    </tr>\n",
       "    <tr>\n",
       "      <th>2</th>\n",
       "      <td>3</td>\n",
       "      <td>Customer_3</td>\n",
       "      <td>North</td>\n",
       "    </tr>\n",
       "    <tr>\n",
       "      <th>3</th>\n",
       "      <td>4</td>\n",
       "      <td>Customer_4</td>\n",
       "      <td>East</td>\n",
       "    </tr>\n",
       "    <tr>\n",
       "      <th>4</th>\n",
       "      <td>5</td>\n",
       "      <td>Customer_5</td>\n",
       "      <td>East</td>\n",
       "    </tr>\n",
       "    <tr>\n",
       "      <th>...</th>\n",
       "      <td>...</td>\n",
       "      <td>...</td>\n",
       "      <td>...</td>\n",
       "    </tr>\n",
       "    <tr>\n",
       "      <th>995</th>\n",
       "      <td>996</td>\n",
       "      <td>Customer_996</td>\n",
       "      <td>North</td>\n",
       "    </tr>\n",
       "    <tr>\n",
       "      <th>996</th>\n",
       "      <td>997</td>\n",
       "      <td>Customer_997</td>\n",
       "      <td>North</td>\n",
       "    </tr>\n",
       "    <tr>\n",
       "      <th>997</th>\n",
       "      <td>998</td>\n",
       "      <td>Customer_998</td>\n",
       "      <td>West</td>\n",
       "    </tr>\n",
       "    <tr>\n",
       "      <th>998</th>\n",
       "      <td>999</td>\n",
       "      <td>Customer_999</td>\n",
       "      <td>West</td>\n",
       "    </tr>\n",
       "    <tr>\n",
       "      <th>999</th>\n",
       "      <td>1000</td>\n",
       "      <td>Customer_1000</td>\n",
       "      <td>East</td>\n",
       "    </tr>\n",
       "  </tbody>\n",
       "</table>\n",
       "<p>1000 rows × 3 columns</p>\n",
       "</div>"
      ],
      "text/plain": [
       "     customer_id  customer_name region\n",
       "0              1     Customer_1   East\n",
       "1              2     Customer_2   West\n",
       "2              3     Customer_3  North\n",
       "3              4     Customer_4   East\n",
       "4              5     Customer_5   East\n",
       "..           ...            ...    ...\n",
       "995          996   Customer_996  North\n",
       "996          997   Customer_997  North\n",
       "997          998   Customer_998   West\n",
       "998          999   Customer_999   West\n",
       "999         1000  Customer_1000   East\n",
       "\n",
       "[1000 rows x 3 columns]"
      ]
     },
     "execution_count": 24,
     "metadata": {},
     "output_type": "execute_result"
    }
   ],
   "source": [
    "customers"
   ]
  },
  {
   "cell_type": "code",
   "execution_count": 25,
   "id": "3de39d1a-5fe2-4f66-b503-ce8294d08172",
   "metadata": {},
   "outputs": [
    {
     "data": {
      "text/html": [
       "<div>\n",
       "<style scoped>\n",
       "    .dataframe tbody tr th:only-of-type {\n",
       "        vertical-align: middle;\n",
       "    }\n",
       "\n",
       "    .dataframe tbody tr th {\n",
       "        vertical-align: top;\n",
       "    }\n",
       "\n",
       "    .dataframe thead th {\n",
       "        text-align: right;\n",
       "    }\n",
       "</style>\n",
       "<table border=\"1\" class=\"dataframe\">\n",
       "  <thead>\n",
       "    <tr style=\"text-align: right;\">\n",
       "      <th></th>\n",
       "      <th>order_id</th>\n",
       "      <th>customer_id</th>\n",
       "      <th>order_date</th>\n",
       "    </tr>\n",
       "  </thead>\n",
       "  <tbody>\n",
       "    <tr>\n",
       "      <th>0</th>\n",
       "      <td>1</td>\n",
       "      <td>322</td>\n",
       "      <td>2023-08-24</td>\n",
       "    </tr>\n",
       "    <tr>\n",
       "      <th>1</th>\n",
       "      <td>2</td>\n",
       "      <td>468</td>\n",
       "      <td>2023-03-10</td>\n",
       "    </tr>\n",
       "    <tr>\n",
       "      <th>2</th>\n",
       "      <td>3</td>\n",
       "      <td>732</td>\n",
       "      <td>2023-02-14</td>\n",
       "    </tr>\n",
       "    <tr>\n",
       "      <th>3</th>\n",
       "      <td>4</td>\n",
       "      <td>75</td>\n",
       "      <td>2023-05-17</td>\n",
       "    </tr>\n",
       "    <tr>\n",
       "      <th>4</th>\n",
       "      <td>5</td>\n",
       "      <td>4</td>\n",
       "      <td>2023-08-22</td>\n",
       "    </tr>\n",
       "    <tr>\n",
       "      <th>...</th>\n",
       "      <td>...</td>\n",
       "      <td>...</td>\n",
       "      <td>...</td>\n",
       "    </tr>\n",
       "    <tr>\n",
       "      <th>9995</th>\n",
       "      <td>9996</td>\n",
       "      <td>52</td>\n",
       "      <td>2023-12-10</td>\n",
       "    </tr>\n",
       "    <tr>\n",
       "      <th>9996</th>\n",
       "      <td>9997</td>\n",
       "      <td>805</td>\n",
       "      <td>2023-12-05</td>\n",
       "    </tr>\n",
       "    <tr>\n",
       "      <th>9997</th>\n",
       "      <td>9998</td>\n",
       "      <td>520</td>\n",
       "      <td>2023-01-12</td>\n",
       "    </tr>\n",
       "    <tr>\n",
       "      <th>9998</th>\n",
       "      <td>9999</td>\n",
       "      <td>812</td>\n",
       "      <td>2023-02-21</td>\n",
       "    </tr>\n",
       "    <tr>\n",
       "      <th>9999</th>\n",
       "      <td>10000</td>\n",
       "      <td>98</td>\n",
       "      <td>2023-05-09</td>\n",
       "    </tr>\n",
       "  </tbody>\n",
       "</table>\n",
       "<p>10000 rows × 3 columns</p>\n",
       "</div>"
      ],
      "text/plain": [
       "      order_id  customer_id  order_date\n",
       "0            1          322  2023-08-24\n",
       "1            2          468  2023-03-10\n",
       "2            3          732  2023-02-14\n",
       "3            4           75  2023-05-17\n",
       "4            5            4  2023-08-22\n",
       "...        ...          ...         ...\n",
       "9995      9996           52  2023-12-10\n",
       "9996      9997          805  2023-12-05\n",
       "9997      9998          520  2023-01-12\n",
       "9998      9999          812  2023-02-21\n",
       "9999     10000           98  2023-05-09\n",
       "\n",
       "[10000 rows x 3 columns]"
      ]
     },
     "execution_count": 25,
     "metadata": {},
     "output_type": "execute_result"
    }
   ],
   "source": [
    "orders"
   ]
  },
  {
   "cell_type": "code",
   "execution_count": 26,
   "id": "e38c6629-03b3-477d-9b33-19aede3f832b",
   "metadata": {},
   "outputs": [
    {
     "data": {
      "text/html": [
       "<div>\n",
       "<style scoped>\n",
       "    .dataframe tbody tr th:only-of-type {\n",
       "        vertical-align: middle;\n",
       "    }\n",
       "\n",
       "    .dataframe tbody tr th {\n",
       "        vertical-align: top;\n",
       "    }\n",
       "\n",
       "    .dataframe thead th {\n",
       "        text-align: right;\n",
       "    }\n",
       "</style>\n",
       "<table border=\"1\" class=\"dataframe\">\n",
       "  <thead>\n",
       "    <tr style=\"text-align: right;\">\n",
       "      <th></th>\n",
       "      <th>order_id</th>\n",
       "      <th>product_id</th>\n",
       "      <th>quantity</th>\n",
       "      <th>price</th>\n",
       "      <th>total_amount</th>\n",
       "    </tr>\n",
       "  </thead>\n",
       "  <tbody>\n",
       "    <tr>\n",
       "      <th>0</th>\n",
       "      <td>1</td>\n",
       "      <td>7</td>\n",
       "      <td>4</td>\n",
       "      <td>724.63</td>\n",
       "      <td>2898.52</td>\n",
       "    </tr>\n",
       "    <tr>\n",
       "      <th>1</th>\n",
       "      <td>41</td>\n",
       "      <td>7</td>\n",
       "      <td>1</td>\n",
       "      <td>724.63</td>\n",
       "      <td>724.63</td>\n",
       "    </tr>\n",
       "    <tr>\n",
       "      <th>2</th>\n",
       "      <td>122</td>\n",
       "      <td>7</td>\n",
       "      <td>3</td>\n",
       "      <td>724.63</td>\n",
       "      <td>2173.89</td>\n",
       "    </tr>\n",
       "    <tr>\n",
       "      <th>3</th>\n",
       "      <td>130</td>\n",
       "      <td>7</td>\n",
       "      <td>2</td>\n",
       "      <td>724.63</td>\n",
       "      <td>1449.26</td>\n",
       "    </tr>\n",
       "    <tr>\n",
       "      <th>4</th>\n",
       "      <td>291</td>\n",
       "      <td>7</td>\n",
       "      <td>3</td>\n",
       "      <td>724.63</td>\n",
       "      <td>2173.89</td>\n",
       "    </tr>\n",
       "    <tr>\n",
       "      <th>...</th>\n",
       "      <td>...</td>\n",
       "      <td>...</td>\n",
       "      <td>...</td>\n",
       "      <td>...</td>\n",
       "      <td>...</td>\n",
       "    </tr>\n",
       "    <tr>\n",
       "      <th>9995</th>\n",
       "      <td>9668</td>\n",
       "      <td>11</td>\n",
       "      <td>1</td>\n",
       "      <td>344.87</td>\n",
       "      <td>344.87</td>\n",
       "    </tr>\n",
       "    <tr>\n",
       "      <th>9996</th>\n",
       "      <td>9779</td>\n",
       "      <td>11</td>\n",
       "      <td>3</td>\n",
       "      <td>344.87</td>\n",
       "      <td>1034.61</td>\n",
       "    </tr>\n",
       "    <tr>\n",
       "      <th>9997</th>\n",
       "      <td>9808</td>\n",
       "      <td>11</td>\n",
       "      <td>1</td>\n",
       "      <td>344.87</td>\n",
       "      <td>344.87</td>\n",
       "    </tr>\n",
       "    <tr>\n",
       "      <th>9998</th>\n",
       "      <td>9973</td>\n",
       "      <td>11</td>\n",
       "      <td>3</td>\n",
       "      <td>344.87</td>\n",
       "      <td>1034.61</td>\n",
       "    </tr>\n",
       "    <tr>\n",
       "      <th>9999</th>\n",
       "      <td>10000</td>\n",
       "      <td>11</td>\n",
       "      <td>4</td>\n",
       "      <td>344.87</td>\n",
       "      <td>1379.48</td>\n",
       "    </tr>\n",
       "  </tbody>\n",
       "</table>\n",
       "<p>10000 rows × 5 columns</p>\n",
       "</div>"
      ],
      "text/plain": [
       "      order_id  product_id  quantity   price  total_amount\n",
       "0            1           7         4  724.63       2898.52\n",
       "1           41           7         1  724.63        724.63\n",
       "2          122           7         3  724.63       2173.89\n",
       "3          130           7         2  724.63       1449.26\n",
       "4          291           7         3  724.63       2173.89\n",
       "...        ...         ...       ...     ...           ...\n",
       "9995      9668          11         1  344.87        344.87\n",
       "9996      9779          11         3  344.87       1034.61\n",
       "9997      9808          11         1  344.87        344.87\n",
       "9998      9973          11         3  344.87       1034.61\n",
       "9999     10000          11         4  344.87       1379.48\n",
       "\n",
       "[10000 rows x 5 columns]"
      ]
     },
     "execution_count": 26,
     "metadata": {},
     "output_type": "execute_result"
    }
   ],
   "source": [
    "order_items\n"
   ]
  },
  {
   "cell_type": "code",
   "execution_count": 27,
   "id": "7ac8c960-b015-4226-b5c7-94136a254d2c",
   "metadata": {},
   "outputs": [
    {
     "data": {
      "text/html": [
       "<div>\n",
       "<style scoped>\n",
       "    .dataframe tbody tr th:only-of-type {\n",
       "        vertical-align: middle;\n",
       "    }\n",
       "\n",
       "    .dataframe tbody tr th {\n",
       "        vertical-align: top;\n",
       "    }\n",
       "\n",
       "    .dataframe thead th {\n",
       "        text-align: right;\n",
       "    }\n",
       "</style>\n",
       "<table border=\"1\" class=\"dataframe\">\n",
       "  <thead>\n",
       "    <tr style=\"text-align: right;\">\n",
       "      <th></th>\n",
       "      <th>product_id</th>\n",
       "      <th>product_name</th>\n",
       "      <th>category</th>\n",
       "      <th>price</th>\n",
       "    </tr>\n",
       "  </thead>\n",
       "  <tbody>\n",
       "    <tr>\n",
       "      <th>0</th>\n",
       "      <td>1</td>\n",
       "      <td>Product_1</td>\n",
       "      <td>Electronics</td>\n",
       "      <td>1860.52</td>\n",
       "    </tr>\n",
       "    <tr>\n",
       "      <th>1</th>\n",
       "      <td>2</td>\n",
       "      <td>Product_2</td>\n",
       "      <td>Electronics</td>\n",
       "      <td>1035.02</td>\n",
       "    </tr>\n",
       "    <tr>\n",
       "      <th>2</th>\n",
       "      <td>3</td>\n",
       "      <td>Product_3</td>\n",
       "      <td>Electronics</td>\n",
       "      <td>590.66</td>\n",
       "    </tr>\n",
       "    <tr>\n",
       "      <th>3</th>\n",
       "      <td>4</td>\n",
       "      <td>Product_4</td>\n",
       "      <td>Toys</td>\n",
       "      <td>972.36</td>\n",
       "    </tr>\n",
       "    <tr>\n",
       "      <th>4</th>\n",
       "      <td>5</td>\n",
       "      <td>Product_5</td>\n",
       "      <td>Books</td>\n",
       "      <td>1962.06</td>\n",
       "    </tr>\n",
       "    <tr>\n",
       "      <th>...</th>\n",
       "      <td>...</td>\n",
       "      <td>...</td>\n",
       "      <td>...</td>\n",
       "      <td>...</td>\n",
       "    </tr>\n",
       "    <tr>\n",
       "      <th>95</th>\n",
       "      <td>96</td>\n",
       "      <td>Product_96</td>\n",
       "      <td>Electronics</td>\n",
       "      <td>252.44</td>\n",
       "    </tr>\n",
       "    <tr>\n",
       "      <th>96</th>\n",
       "      <td>97</td>\n",
       "      <td>Product_97</td>\n",
       "      <td>Toys</td>\n",
       "      <td>1096.57</td>\n",
       "    </tr>\n",
       "    <tr>\n",
       "      <th>97</th>\n",
       "      <td>98</td>\n",
       "      <td>Product_98</td>\n",
       "      <td>Toys</td>\n",
       "      <td>879.75</td>\n",
       "    </tr>\n",
       "    <tr>\n",
       "      <th>98</th>\n",
       "      <td>99</td>\n",
       "      <td>Product_99</td>\n",
       "      <td>Books</td>\n",
       "      <td>1966.52</td>\n",
       "    </tr>\n",
       "    <tr>\n",
       "      <th>99</th>\n",
       "      <td>100</td>\n",
       "      <td>Product_100</td>\n",
       "      <td>Clothing</td>\n",
       "      <td>312.87</td>\n",
       "    </tr>\n",
       "  </tbody>\n",
       "</table>\n",
       "<p>100 rows × 4 columns</p>\n",
       "</div>"
      ],
      "text/plain": [
       "    product_id product_name     category    price\n",
       "0            1    Product_1  Electronics  1860.52\n",
       "1            2    Product_2  Electronics  1035.02\n",
       "2            3    Product_3  Electronics   590.66\n",
       "3            4    Product_4         Toys   972.36\n",
       "4            5    Product_5        Books  1962.06\n",
       "..         ...          ...          ...      ...\n",
       "95          96   Product_96  Electronics   252.44\n",
       "96          97   Product_97         Toys  1096.57\n",
       "97          98   Product_98         Toys   879.75\n",
       "98          99   Product_99        Books  1966.52\n",
       "99         100  Product_100     Clothing   312.87\n",
       "\n",
       "[100 rows x 4 columns]"
      ]
     },
     "execution_count": 27,
     "metadata": {},
     "output_type": "execute_result"
    }
   ],
   "source": [
    "products"
   ]
  },
  {
   "cell_type": "code",
   "execution_count": 28,
   "id": "343a8fde-e129-4b6b-8d45-95d9fbc8d6c9",
   "metadata": {},
   "outputs": [
    {
     "data": {
      "text/html": [
       "<div>\n",
       "<style scoped>\n",
       "    .dataframe tbody tr th:only-of-type {\n",
       "        vertical-align: middle;\n",
       "    }\n",
       "\n",
       "    .dataframe tbody tr th {\n",
       "        vertical-align: top;\n",
       "    }\n",
       "\n",
       "    .dataframe thead th {\n",
       "        text-align: right;\n",
       "    }\n",
       "</style>\n",
       "<table border=\"1\" class=\"dataframe\">\n",
       "  <thead>\n",
       "    <tr style=\"text-align: right;\">\n",
       "      <th></th>\n",
       "      <th>order_id</th>\n",
       "      <th>payment_value</th>\n",
       "    </tr>\n",
       "  </thead>\n",
       "  <tbody>\n",
       "    <tr>\n",
       "      <th>0</th>\n",
       "      <td>1</td>\n",
       "      <td>2898.52</td>\n",
       "    </tr>\n",
       "    <tr>\n",
       "      <th>1</th>\n",
       "      <td>2</td>\n",
       "      <td>724.63</td>\n",
       "    </tr>\n",
       "    <tr>\n",
       "      <th>2</th>\n",
       "      <td>3</td>\n",
       "      <td>2173.89</td>\n",
       "    </tr>\n",
       "    <tr>\n",
       "      <th>3</th>\n",
       "      <td>4</td>\n",
       "      <td>1449.26</td>\n",
       "    </tr>\n",
       "    <tr>\n",
       "      <th>4</th>\n",
       "      <td>5</td>\n",
       "      <td>2173.89</td>\n",
       "    </tr>\n",
       "    <tr>\n",
       "      <th>...</th>\n",
       "      <td>...</td>\n",
       "      <td>...</td>\n",
       "    </tr>\n",
       "    <tr>\n",
       "      <th>9995</th>\n",
       "      <td>9996</td>\n",
       "      <td>344.87</td>\n",
       "    </tr>\n",
       "    <tr>\n",
       "      <th>9996</th>\n",
       "      <td>9997</td>\n",
       "      <td>1034.61</td>\n",
       "    </tr>\n",
       "    <tr>\n",
       "      <th>9997</th>\n",
       "      <td>9998</td>\n",
       "      <td>344.87</td>\n",
       "    </tr>\n",
       "    <tr>\n",
       "      <th>9998</th>\n",
       "      <td>9999</td>\n",
       "      <td>1034.61</td>\n",
       "    </tr>\n",
       "    <tr>\n",
       "      <th>9999</th>\n",
       "      <td>10000</td>\n",
       "      <td>1379.48</td>\n",
       "    </tr>\n",
       "  </tbody>\n",
       "</table>\n",
       "<p>10000 rows × 2 columns</p>\n",
       "</div>"
      ],
      "text/plain": [
       "      order_id  payment_value\n",
       "0            1        2898.52\n",
       "1            2         724.63\n",
       "2            3        2173.89\n",
       "3            4        1449.26\n",
       "4            5        2173.89\n",
       "...        ...            ...\n",
       "9995      9996         344.87\n",
       "9996      9997        1034.61\n",
       "9997      9998         344.87\n",
       "9998      9999        1034.61\n",
       "9999     10000        1379.48\n",
       "\n",
       "[10000 rows x 2 columns]"
      ]
     },
     "execution_count": 28,
     "metadata": {},
     "output_type": "execute_result"
    }
   ],
   "source": [
    "payments"
   ]
  },
  {
   "cell_type": "code",
   "execution_count": 29,
   "id": "a88484ec-132d-4a42-928c-a695527961bd",
   "metadata": {},
   "outputs": [
    {
     "name": "stdout",
     "output_type": "stream",
     "text": [
      "<class 'pandas.core.frame.DataFrame'>\n",
      "RangeIndex: 1000 entries, 0 to 999\n",
      "Data columns (total 3 columns):\n",
      " #   Column         Non-Null Count  Dtype \n",
      "---  ------         --------------  ----- \n",
      " 0   customer_id    1000 non-null   int64 \n",
      " 1   customer_name  1000 non-null   object\n",
      " 2   region         1000 non-null   object\n",
      "dtypes: int64(1), object(2)\n",
      "memory usage: 23.6+ KB\n"
     ]
    }
   ],
   "source": [
    "customers.info()"
   ]
  },
  {
   "cell_type": "code",
   "execution_count": 30,
   "id": "38f6c169-2ce4-42af-9b32-0c76ed28160f",
   "metadata": {},
   "outputs": [
    {
     "name": "stdout",
     "output_type": "stream",
     "text": [
      "<class 'pandas.core.frame.DataFrame'>\n",
      "RangeIndex: 10000 entries, 0 to 9999\n",
      "Data columns (total 3 columns):\n",
      " #   Column       Non-Null Count  Dtype \n",
      "---  ------       --------------  ----- \n",
      " 0   order_id     10000 non-null  int64 \n",
      " 1   customer_id  10000 non-null  int64 \n",
      " 2   order_date   10000 non-null  object\n",
      "dtypes: int64(2), object(1)\n",
      "memory usage: 234.5+ KB\n"
     ]
    }
   ],
   "source": [
    "orders.info()"
   ]
  },
  {
   "cell_type": "code",
   "execution_count": 31,
   "id": "72e0f4a7-e1ae-480a-803b-283b3ace03b9",
   "metadata": {},
   "outputs": [
    {
     "data": {
      "text/plain": [
       "<bound method DataFrame.info of       order_id  product_id  quantity   price  total_amount\n",
       "0            1           7         4  724.63       2898.52\n",
       "1           41           7         1  724.63        724.63\n",
       "2          122           7         3  724.63       2173.89\n",
       "3          130           7         2  724.63       1449.26\n",
       "4          291           7         3  724.63       2173.89\n",
       "...        ...         ...       ...     ...           ...\n",
       "9995      9668          11         1  344.87        344.87\n",
       "9996      9779          11         3  344.87       1034.61\n",
       "9997      9808          11         1  344.87        344.87\n",
       "9998      9973          11         3  344.87       1034.61\n",
       "9999     10000          11         4  344.87       1379.48\n",
       "\n",
       "[10000 rows x 5 columns]>"
      ]
     },
     "execution_count": 31,
     "metadata": {},
     "output_type": "execute_result"
    }
   ],
   "source": [
    "order_items.info"
   ]
  },
  {
   "cell_type": "code",
   "execution_count": 32,
   "id": "db7821ed-448c-40cc-9da7-6f52daed72da",
   "metadata": {},
   "outputs": [
    {
     "name": "stdout",
     "output_type": "stream",
     "text": [
      "<class 'pandas.core.frame.DataFrame'>\n",
      "RangeIndex: 10000 entries, 0 to 9999\n",
      "Data columns (total 2 columns):\n",
      " #   Column         Non-Null Count  Dtype  \n",
      "---  ------         --------------  -----  \n",
      " 0   order_id       10000 non-null  int64  \n",
      " 1   payment_value  10000 non-null  float64\n",
      "dtypes: float64(1), int64(1)\n",
      "memory usage: 156.4 KB\n"
     ]
    }
   ],
   "source": [
    "payments.info()"
   ]
  },
  {
   "cell_type": "code",
   "execution_count": 33,
   "id": "7ff7415d-0f2f-4cd8-9c81-19cf6b85e313",
   "metadata": {},
   "outputs": [
    {
     "name": "stdout",
     "output_type": "stream",
     "text": [
      "<class 'pandas.core.frame.DataFrame'>\n",
      "RangeIndex: 100 entries, 0 to 99\n",
      "Data columns (total 4 columns):\n",
      " #   Column        Non-Null Count  Dtype  \n",
      "---  ------        --------------  -----  \n",
      " 0   product_id    100 non-null    int64  \n",
      " 1   product_name  100 non-null    object \n",
      " 2   category      100 non-null    object \n",
      " 3   price         100 non-null    float64\n",
      "dtypes: float64(1), int64(1), object(2)\n",
      "memory usage: 3.3+ KB\n"
     ]
    }
   ],
   "source": [
    "products.info()"
   ]
  },
  {
   "cell_type": "code",
   "execution_count": null,
   "id": "0a077969-eb00-4fda-a17f-a424b0c7825b",
   "metadata": {},
   "outputs": [],
   "source": [
    "# import mysql.connector\n",
    "# mydb = mysql.connector.connect(\n",
    "#     host=\"localhost\",\n",
    "#     user=\"root\",              \n",
    "#     password=\"khushal2003\", \n",
    "#     database=\"ecommerce\"      \n",
    "# )\n",
    "\n",
    "# conn = mydb\n",
    "# cursor = mydb.cursor()\n",
    "\n",
    "# cursor.execute(\"SHOW TABLES\")\n",
    "# for x in cursor:\n",
    "#     print(x)\n"
   ]
  },
  {
   "cell_type": "code",
   "execution_count": null,
   "id": "2da91f1c-f2d8-4dd1-be3f-ca2ba817197c",
   "metadata": {},
   "outputs": [],
   "source": [
    "from sqlalchemy import create_engine\n",
    "user = \"root\"\n",
    "password = \"khushal2003\"\n",
    "host = \"localhost\"\n",
    "port = \"3306\"\n",
    "database = \"ecommerce\"\n",
    "engine = create_engine(f\"mysql+pymysql://{user}:{password}@{host}:{port}/{database}\")\n",
    "print(engine)\n"
   ]
  },
  {
   "cell_type": "code",
   "execution_count": 60,
   "id": "4b9b6e88-5d92-4b92-92d3-1e82f177c8aa",
   "metadata": {},
   "outputs": [
    {
     "name": "stdout",
     "output_type": "stream",
     "text": [
      "<class 'pandas.core.frame.DataFrame'>\n",
      "RangeIndex: 10000 entries, 0 to 9999\n",
      "Data columns (total 5 columns):\n",
      " #   Column        Non-Null Count  Dtype  \n",
      "---  ------        --------------  -----  \n",
      " 0   order_id      10000 non-null  int64  \n",
      " 1   product_id    10000 non-null  int64  \n",
      " 2   quantity      10000 non-null  int64  \n",
      " 3   price         10000 non-null  float64\n",
      " 4   total_amount  10000 non-null  float64\n",
      "dtypes: float64(2), int64(3)\n",
      "memory usage: 390.8 KB\n"
     ]
    }
   ],
   "source": [
    "order_items.info()"
   ]
  },
  {
   "cell_type": "markdown",
   "id": "9fcfd576-7f7b-4d1c-8f62-91a6dd64520a",
   "metadata": {},
   "source": [
    "### TOP 5 CATEGORY BY REVENUE"
   ]
  },
  {
   "cell_type": "code",
   "execution_count": 61,
   "id": "0741a4fc-23f6-4861-845b-f76d6c87f8cb",
   "metadata": {},
   "outputs": [
    {
     "data": {
      "text/html": [
       "<div>\n",
       "<style scoped>\n",
       "    .dataframe tbody tr th:only-of-type {\n",
       "        vertical-align: middle;\n",
       "    }\n",
       "\n",
       "    .dataframe tbody tr th {\n",
       "        vertical-align: top;\n",
       "    }\n",
       "\n",
       "    .dataframe thead th {\n",
       "        text-align: right;\n",
       "    }\n",
       "</style>\n",
       "<table border=\"1\" class=\"dataframe\">\n",
       "  <thead>\n",
       "    <tr style=\"text-align: right;\">\n",
       "      <th></th>\n",
       "      <th>product_id</th>\n",
       "      <th>product_name</th>\n",
       "      <th>category</th>\n",
       "      <th>price</th>\n",
       "    </tr>\n",
       "  </thead>\n",
       "  <tbody>\n",
       "    <tr>\n",
       "      <th>0</th>\n",
       "      <td>1</td>\n",
       "      <td>Product_1</td>\n",
       "      <td>Electronics</td>\n",
       "      <td>1860.52</td>\n",
       "    </tr>\n",
       "    <tr>\n",
       "      <th>1</th>\n",
       "      <td>2</td>\n",
       "      <td>Product_2</td>\n",
       "      <td>Electronics</td>\n",
       "      <td>1035.02</td>\n",
       "    </tr>\n",
       "    <tr>\n",
       "      <th>2</th>\n",
       "      <td>3</td>\n",
       "      <td>Product_3</td>\n",
       "      <td>Electronics</td>\n",
       "      <td>590.66</td>\n",
       "    </tr>\n",
       "    <tr>\n",
       "      <th>3</th>\n",
       "      <td>4</td>\n",
       "      <td>Product_4</td>\n",
       "      <td>Toys</td>\n",
       "      <td>972.36</td>\n",
       "    </tr>\n",
       "    <tr>\n",
       "      <th>4</th>\n",
       "      <td>5</td>\n",
       "      <td>Product_5</td>\n",
       "      <td>Books</td>\n",
       "      <td>1962.06</td>\n",
       "    </tr>\n",
       "    <tr>\n",
       "      <th>...</th>\n",
       "      <td>...</td>\n",
       "      <td>...</td>\n",
       "      <td>...</td>\n",
       "      <td>...</td>\n",
       "    </tr>\n",
       "    <tr>\n",
       "      <th>95</th>\n",
       "      <td>96</td>\n",
       "      <td>Product_96</td>\n",
       "      <td>Electronics</td>\n",
       "      <td>252.44</td>\n",
       "    </tr>\n",
       "    <tr>\n",
       "      <th>96</th>\n",
       "      <td>97</td>\n",
       "      <td>Product_97</td>\n",
       "      <td>Toys</td>\n",
       "      <td>1096.57</td>\n",
       "    </tr>\n",
       "    <tr>\n",
       "      <th>97</th>\n",
       "      <td>98</td>\n",
       "      <td>Product_98</td>\n",
       "      <td>Toys</td>\n",
       "      <td>879.75</td>\n",
       "    </tr>\n",
       "    <tr>\n",
       "      <th>98</th>\n",
       "      <td>99</td>\n",
       "      <td>Product_99</td>\n",
       "      <td>Books</td>\n",
       "      <td>1966.52</td>\n",
       "    </tr>\n",
       "    <tr>\n",
       "      <th>99</th>\n",
       "      <td>100</td>\n",
       "      <td>Product_100</td>\n",
       "      <td>Clothing</td>\n",
       "      <td>312.87</td>\n",
       "    </tr>\n",
       "  </tbody>\n",
       "</table>\n",
       "<p>100 rows × 4 columns</p>\n",
       "</div>"
      ],
      "text/plain": [
       "    product_id product_name     category    price\n",
       "0            1    Product_1  Electronics  1860.52\n",
       "1            2    Product_2  Electronics  1035.02\n",
       "2            3    Product_3  Electronics   590.66\n",
       "3            4    Product_4         Toys   972.36\n",
       "4            5    Product_5        Books  1962.06\n",
       "..         ...          ...          ...      ...\n",
       "95          96   Product_96  Electronics   252.44\n",
       "96          97   Product_97         Toys  1096.57\n",
       "97          98   Product_98         Toys   879.75\n",
       "98          99   Product_99        Books  1966.52\n",
       "99         100  Product_100     Clothing   312.87\n",
       "\n",
       "[100 rows x 4 columns]"
      ]
     },
     "execution_count": 61,
     "metadata": {},
     "output_type": "execute_result"
    }
   ],
   "source": [
    "products"
   ]
  },
  {
   "cell_type": "code",
   "execution_count": 62,
   "id": "ca940fbe-fd9a-47a9-8b90-9af1d8713d91",
   "metadata": {},
   "outputs": [
    {
     "name": "stdout",
     "output_type": "stream",
     "text": [
      "      category   revenue\n",
      "0         Toys  24106.95\n",
      "1  Electronics  21898.33\n",
      "2     Clothing  17915.28\n",
      "3         Home  12044.00\n",
      "4        Books  11999.68\n"
     ]
    }
   ],
   "source": [
    "query = \"\"\"\n",
    "SELECT category,SUM(price) AS revenue\n",
    "FROM products\n",
    "GROUP BY category\n",
    "ORDER BY revenue DESC\n",
    "LIMIT 5;\n",
    "\"\"\"\n",
    "\n",
    "df = pd.read_sql(query, engine)\n",
    "print(df)\n"
   ]
  },
  {
   "cell_type": "code",
   "execution_count": 63,
   "id": "ea99818b-20c9-44ea-b977-49b95e181c46",
   "metadata": {},
   "outputs": [
    {
     "data": {
      "image/png": "[encoded data removed]",
      "text/plain": [
       "<Figure size 640x480 with 1 Axes>"
      ]
     },
     "metadata": {},
     "output_type": "display_data"
    }
   ],
   "source": [
    "df.plot(kind='bar', x='category', y='revenue', title='Top 5 Category by Revenue')\n",
    "plt.xlabel(\"Category\")\n",
    "plt.ylabel(\"Revenue\")\n",
    "plt.tight_layout()\n",
    "plt.show()\n"
   ]
  },
  {
   "cell_type": "markdown",
   "id": "8685e936-5580-409c-b05a-3891c704f4be",
   "metadata": {},
   "source": [
    "### TOP 5 REGIONS BY REVENUE"
   ]
  },
  {
   "cell_type": "code",
   "execution_count": 40,
   "id": "4075f5fc-6d2f-49df-aa66-4dff5425d3d8",
   "metadata": {},
   "outputs": [
    {
     "name": "stdout",
     "output_type": "stream",
     "text": [
      "  region  total_revenue\n",
      "0   West     2426685.22\n",
      "1  North     2302509.55\n",
      "2  South     2047084.31\n",
      "3   East     2003780.91\n"
     ]
    }
   ],
   "source": [
    "query = \"\"\"\n",
    "SELECT c.region, SUM(oi.price) AS total_revenue\n",
    "FROM customers c\n",
    "JOIN orders o ON c.customer_id = o.customer_id\n",
    "JOIN order_items oi ON o.order_id = oi.order_id\n",
    "GROUP BY c.region\n",
    "ORDER BY total_revenue DESC\n",
    "LIMIT 5;\n",
    "\"\"\"\n",
    "\n",
    "df = pd.read_sql(query, engine)\n",
    "print(df)\n",
    "\n"
   ]
  },
  {
   "cell_type": "code",
   "execution_count": 41,
   "id": "b6a55c72-02c1-42e0-9a36-b8820b9bc627",
   "metadata": {},
   "outputs": [
    {
     "data": {
      "image/png": "[encoded data removed]",
      "text/plain": [
       "<Figure size 640x480 with 1 Axes>"
      ]
     },
     "metadata": {},
     "output_type": "display_data"
    }
   ],
   "source": [
    "df.plot(kind='bar', x='region', y='total_revenue', title='Top 5 Regions by Revenue', color='salmon')\n",
    "plt.xlabel(\"Region\")\n",
    "plt.ylabel(\"Revenue\")\n",
    "plt.xticks(rotation=45)\n",
    "plt.tight_layout()\n",
    "plt.show()\n"
   ]
  },
  {
   "cell_type": "markdown",
   "id": "9cc1bed6-0fea-4856-99c4-ba58cea953d1",
   "metadata": {},
   "source": [
    "### TOP 5 PRODUCTS BY REVENUE"
   ]
  },
  {
   "cell_type": "code",
   "execution_count": 42,
   "id": "6982c892-7bca-4cdc-a6c3-d914598f96dd",
   "metadata": {},
   "outputs": [
    {
     "name": "stdout",
     "output_type": "stream",
     "text": [
      "   product_id    revenue\n",
      "0          18  216468.00\n",
      "1          85  209284.28\n",
      "2           5  192281.88\n",
      "3          38  191818.20\n",
      "4          95  191208.10\n"
     ]
    }
   ],
   "source": [
    "query = \"\"\"\n",
    "SELECT product_id,SUM(price) AS revenue\n",
    "FROM order_items\n",
    "GROUP BY product_id\n",
    "ORDER BY revenue DESC\n",
    "LIMIT 5;\n",
    "\"\"\"\n",
    "\n",
    "df = pd.read_sql(query, engine)\n",
    "print(df)\n"
   ]
  },
  {
   "cell_type": "code",
   "execution_count": 43,
   "id": "5a201887-c1d0-4295-9cb3-4071775176d8",
   "metadata": {},
   "outputs": [
    {
     "data": {
      "image/png": "[encoded data removed]",
      "text/plain": [
       "<Figure size 640x480 with 1 Axes>"
      ]
     },
     "metadata": {},
     "output_type": "display_data"
    }
   ],
   "source": [
    "df.plot(kind='bar', x='product_id', y='revenue', title='Top 5 Products by Revenue',color=['#FF5735', '#33FFBD', '#337BFF', '#DA33FF', '#FF3333'])\n",
    "plt.xlabel(\"Product ID\")\n",
    "plt.ylabel(\"Revenue\")\n",
    "plt.tight_layout()\n",
    "plt.show()\n"
   ]
  },
  {
   "cell_type": "markdown",
   "id": "34a81613-2b03-4b55-9700-bcb7f54141cc",
   "metadata": {},
   "source": [
    "### TOP 5 CUSTOMERS BY ORDER COUNT"
   ]
  },
  {
   "cell_type": "code",
   "execution_count": 44,
   "id": "3fc17102-2a9a-473e-ac09-7f6c1a9b82ef",
   "metadata": {},
   "outputs": [
    {
     "name": "stdout",
     "output_type": "stream",
     "text": [
      "  customer_name  total_orders\n",
      "0   Customer_73            21\n",
      "1  Customer_726            21\n",
      "2  Customer_822            19\n",
      "3  Customer_825            19\n",
      "4  Customer_973            19\n"
     ]
    }
   ],
   "source": [
    "query = \"\"\"SELECT c.customer_name, COUNT(o.order_id) AS total_orders\n",
    "FROM customers c\n",
    "JOIN orders o ON c.customer_id = o.customer_id\n",
    "GROUP BY c.customer_name\n",
    "\n",
    "ORDER BY total_orders DESC\n",
    "LIMIT 5;\n",
    "\"\"\"\n",
    "\n",
    "df = pd.read_sql(query, engine)\n",
    "print(df)"
   ]
  },
  {
   "cell_type": "code",
   "execution_count": 45,
   "id": "77331a39-2606-46a0-bb78-706316611f66",
   "metadata": {},
   "outputs": [
    {
     "data": {
      "image/png": "[encoded data removed]",
      "text/plain": [
       "<Figure size 640x480 with 1 Axes>"
      ]
     },
     "metadata": {},
     "output_type": "display_data"
    }
   ],
   "source": [
    "df.plot(\n",
    "    kind='bar',\n",
    "    x='customer_name',\n",
    "    y='total_orders',\n",
    "    title='Top 5 Customers by Order Count',\n",
    "    color='skyblue'\n",
    ")\n",
    "\n",
    "plt.xlabel(\"Customer Name\")\n",
    "plt.ylabel(\"Total Orders\")\n",
    "plt.xticks(rotation=45)\n",
    "plt.tight_layout()\n",
    "plt.show()\n"
   ]
  },
  {
   "cell_type": "markdown",
   "id": "77077e0e-50aa-4ab9-bf97-2be67830c9c5",
   "metadata": {},
   "source": [
    "### sales Day wise"
   ]
  },
  {
   "cell_type": "code",
   "execution_count": 46,
   "id": "2047474a-0f30-4b08-a8fe-7fb1458b88e1",
   "metadata": {},
   "outputs": [
    {
     "name": "stdout",
     "output_type": "stream",
     "text": [
      "         day  total_sales\n",
      "0    Tuesday   3246797.32\n",
      "1     Sunday   3233997.40\n",
      "2  Wednesday   3108814.79\n",
      "3   Saturday   3106328.30\n",
      "4     Monday   3098092.34\n",
      "5     Friday   3036610.46\n",
      "6   Thursday   2970333.69\n"
     ]
    }
   ],
   "source": [
    "query =\"\"\"SELECT DAYNAME(o.order_date) AS day, SUM(oi.quantity * oi.price) AS total_sales\n",
    "FROM orders o\n",
    "JOIN order_items oi ON o.order_id = oi.order_id\n",
    "GROUP BY DAYNAME(o.order_date)\n",
    "ORDER BY total_sales DESC;\"\"\"\n",
    "df = pd.read_sql(query, engine)\n",
    "print(df)\n"
   ]
  },
  {
   "cell_type": "code",
   "execution_count": 47,
   "id": "61c39c05-6ed4-499e-ad5f-13064a498135",
   "metadata": {},
   "outputs": [
    {
     "data": {
      "image/png": "[encoded data removed]",
      "text/plain": [
       "<Figure size 640x480 with 1 Axes>"
      ]
     },
     "metadata": {},
     "output_type": "display_data"
    }
   ],
   "source": [
    "df.plot(\n",
    "    kind='bar',\n",
    "    x='day',\n",
    "    y='total_sales',\n",
    "    title='sales day wise',\n",
    "    color='green'\n",
    ")\n",
    "\n",
    "plt.xlabel(\"Day\")\n",
    "plt.ylabel(\"Sales In Million\")\n",
    "plt.xticks(rotation=45)\n",
    "plt.tight_layout()\n",
    "plt.show()"
   ]
  },
  {
   "cell_type": "markdown",
   "id": "d1c73eb2-4409-4943-b2be-5138804322e5",
   "metadata": {},
   "source": [
    "### top 10 Products By Quantity Sold"
   ]
  },
  {
   "cell_type": "code",
   "execution_count": 48,
   "id": "70e7b1b3-ead9-4548-99fe-189f85d7a86e",
   "metadata": {},
   "outputs": [
    {
     "name": "stdout",
     "output_type": "stream",
     "text": [
      "  product_name  total_quantity_sold\n",
      "0   Product_48                326.0\n",
      "1   Product_81                312.0\n",
      "2   Product_54                308.0\n",
      "3   Product_17                301.0\n",
      "4  Product_100                298.0\n",
      "5   Product_71                298.0\n",
      "6   Product_63                298.0\n",
      "7   Product_50                291.0\n",
      "8   Product_97                289.0\n",
      "9   Product_59                288.0\n"
     ]
    }
   ],
   "source": [
    "query = \"\"\"\n",
    "SELECT \n",
    "    p.product_name,\n",
    "    SUM(oi.quantity) AS total_quantity_sold\n",
    "FROM order_items oi\n",
    "JOIN products p ON oi.product_id = p.product_id\n",
    "GROUP BY p.product_name\n",
    "ORDER BY total_quantity_sold DESC\n",
    "LIMIT 10;\n",
    "\"\"\"\n",
    "\n",
    "df = pd.read_sql(query, engine)\n",
    "print(df)\n"
   ]
  },
  {
   "cell_type": "code",
   "execution_count": 49,
   "id": "897a9e99-5f2f-49dc-a799-2f85dc5be30a",
   "metadata": {},
   "outputs": [
    {
     "data": {
      "image/png": "[encoded data removed]",
      "text/plain": [
       "<Figure size 640x480 with 1 Axes>"
      ]
     },
     "metadata": {},
     "output_type": "display_data"
    }
   ],
   "source": [
    "df.plot(\n",
    "    kind='bar',\n",
    "    x='product_name',\n",
    "    y='total_quantity_sold',\n",
    "    title='Top 10 Products by Quantity Sold',\n",
    "    color='red'\n",
    ")\n",
    "\n",
    "plt.xlabel(\"Product Name\")\n",
    "plt.ylabel(\"Quntity\")\n",
    "plt.xticks(rotation=45)\n",
    "plt.tight_layout()\n",
    "plt.show()"
   ]
  },
  {
   "cell_type": "markdown",
   "id": "ec0607a1-f5e4-4a61-8d1a-ee0caa87c6b0",
   "metadata": {},
   "source": [
    "### Average Order Value By Month"
   ]
  },
  {
   "cell_type": "code",
   "execution_count": 50,
   "id": "6f8db4ca-bb6d-4fd6-9ede-5ef09555f9bb",
   "metadata": {},
   "outputs": [
    {
     "name": "stdout",
     "output_type": "stream",
     "text": [
      "     month  avg_order_value\n",
      "0  2023-01          2151.76\n",
      "1  2023-02          2185.97\n",
      "2  2023-03          2152.85\n",
      "3  2023-04          2135.57\n",
      "4  2023-05          2183.72\n",
      "5  2023-06          2253.46\n",
      "6  2023-07          2286.71\n",
      "7  2023-08          2167.52\n",
      "8  2023-09          2103.02\n",
      "9  2023-10          2153.18\n"
     ]
    }
   ],
   "source": [
    "query = (\"\"\"\n",
    "SELECT\n",
    "  DATE_FORMAT(o.order_date, '%%Y-%%m') AS month,\n",
    "  ROUND(\n",
    "    SUM(oi.total_amount)\n",
    "    / COUNT(DISTINCT o.order_id),\n",
    "    2\n",
    "  ) AS avg_order_value\n",
    "FROM orders o\n",
    "JOIN order_items oi \n",
    "  ON o.order_id = oi.order_id\n",
    "GROUP BY month\n",
    "ORDER BY month\n",
    "limit 10;\n",
    "\"\"\")\n",
    "df = pd.read_sql(query,engine)\n",
    "print(df)"
   ]
  },
  {
   "cell_type": "code",
   "execution_count": 51,
   "id": "9aa6d32c-108c-4197-b11f-7e21803933ad",
   "metadata": {},
   "outputs": [
    {
     "data": {
      "image/png": "[encoded data removed]",
      "text/plain": [
       "<Figure size 640x480 with 1 Axes>"
      ]
     },
     "metadata": {},
     "output_type": "display_data"
    }
   ],
   "source": [
    "df.plot(\n",
    "    kind='bar',\n",
    "    x='month',\n",
    "    y='avg_order_value',\n",
    "    title='Average Order By Month',\n",
    "    color='yellow'\n",
    ")\n",
    "\n",
    "plt.xlabel(\"Month\")\n",
    "plt.ylabel(\"Quantity\")\n",
    "plt.xticks(rotation=45)\n",
    "plt.tight_layout()\n",
    "plt.show()"
   ]
  },
  {
   "cell_type": "markdown",
   "id": "3da44176-9a67-4bbe-9a26-71119d1fb421",
   "metadata": {},
   "source": [
    "### Top 10 Popular Product By Sale"
   ]
  },
  {
   "cell_type": "code",
   "execution_count": 52,
   "id": "04c00695-832a-4127-8c94-eb47edb9aa49",
   "metadata": {},
   "outputs": [
    {
     "name": "stdout",
     "output_type": "stream",
     "text": [
      "  product_name  total_quantity_sold\n",
      "0   Product_48                326.0\n",
      "1   Product_81                312.0\n",
      "2   Product_54                308.0\n",
      "3   Product_17                301.0\n",
      "4  Product_100                298.0\n",
      "5   Product_71                298.0\n",
      "6   Product_63                298.0\n",
      "7   Product_50                291.0\n",
      "8   Product_97                289.0\n",
      "9   Product_59                288.0\n"
     ]
    }
   ],
   "source": [
    "query = (\"\"\"\n",
    "SELECT\n",
    "    p.product_name,\n",
    "    SUM(oi.quantity) AS total_quantity_sold\n",
    "FROM order_items oi\n",
    "JOIN products p ON oi.product_id = p.product_id\n",
    "GROUP BY p.product_name\n",
    "ORDER BY total_quantity_sold DESC\n",
    "LIMIT 10;\n",
    "\n",
    "\n",
    "\"\"\")\n",
    "df = pd.read_sql(query,engine)\n",
    "print(df)"
   ]
  },
  {
   "cell_type": "code",
   "execution_count": 53,
   "id": "a503e5d9-cad4-40cb-aa88-9206306fed80",
   "metadata": {},
   "outputs": [
    {
     "data": {
      "image/png": "[encoded data removed]",
      "text/plain": [
       "<Figure size 640x480 with 1 Axes>"
      ]
     },
     "metadata": {},
     "output_type": "display_data"
    }
   ],
   "source": [
    "df.plot(\n",
    "    kind='bar',\n",
    "    x='product_name',\n",
    "    y='total_quantity_sold',\n",
    "    title='Top 10 popular product by quantity',\n",
    "    color='red'\n",
    ")\n",
    "\n",
    "plt.xlabel(\"Product_name\")\n",
    "plt.ylabel(\"Total_Quantity_Sold\")\n",
    "plt.xticks(rotation=45)\n",
    "plt.tight_layout()\n",
    "plt.show()"
   ]
  },
  {
   "cell_type": "markdown",
   "id": "9f45eeff-75c3-41a9-9f1d-8e814ce83d9f",
   "metadata": {},
   "source": [
    "### Top 10 Customers By Total Spent"
   ]
  },
  {
   "cell_type": "code",
   "execution_count": 54,
   "id": "77a637ba-4c76-4119-9fe2-1c114a6bef70",
   "metadata": {},
   "outputs": [
    {
     "name": "stdout",
     "output_type": "stream",
     "text": [
      "   customer_id customer_name region  total_spent\n",
      "0          237  Customer_237  South     62318.51\n",
      "1           39   Customer_39  North     56547.60\n",
      "2          825  Customer_825   West     51671.81\n",
      "3          188  Customer_188   East     50971.50\n",
      "4           73   Customer_73  North     49581.96\n",
      "5          783  Customer_783   West     48520.82\n",
      "6          602  Customer_602   West     48257.80\n",
      "7          387  Customer_387   East     48062.64\n",
      "8          676  Customer_676  North     47594.11\n",
      "9          726  Customer_726  North     47301.38\n"
     ]
    }
   ],
   "source": [
    "query = '''SELECT \n",
    "    c.customer_id,\n",
    "    c.customer_name,\n",
    "    c.region,\n",
    "    ROUND(SUM(p.payment_value), 2) AS total_spent\n",
    "FROM orders o\n",
    "JOIN payments p ON o.order_id = p.order_id\n",
    "JOIN customers c ON o.customer_id = c.customer_id\n",
    "GROUP BY c.customer_id, c.customer_name, c.region\n",
    "ORDER BY total_spent DESC\n",
    "LIMIT 10;'''\n",
    "\n",
    "df = pd.read_sql(query,engine)\n",
    "print(df)"
   ]
  },
  {
   "cell_type": "code",
   "execution_count": 55,
   "id": "d9f0dcd5-63c0-4948-95e3-a80a150858bb",
   "metadata": {},
   "outputs": [
    {
     "data": {
      "image/png": "[encoded data removed]",
      "text/plain": [
       "<Figure size 640x480 with 1 Axes>"
      ]
     },
     "metadata": {},
     "output_type": "display_data"
    }
   ],
   "source": [
    "df.plot(\n",
    "    kind='bar',\n",
    "    x='customer_name',\n",
    "    y='total_spent',\n",
    "    title='Top 10 Customers By Total Spent',\n",
    "    color='magenta'\n",
    ")\n",
    "\n",
    "plt.xlabel(\"Customer Name\")\n",
    "plt.ylabel(\"total spent (rupees)\")\n",
    "plt.xticks(rotation=45)\n",
    "plt.tight_layout()\n",
    "plt.show()"
   ]
  },
  {
   "cell_type": "code",
   "execution_count": 56,
   "id": "0341f1f5-c303-4d0a-afcc-fd24321cb2a9",
   "metadata": {},
   "outputs": [
    {
     "data": {
      "text/html": [
       "<div>\n",
       "<style scoped>\n",
       "    .dataframe tbody tr th:only-of-type {\n",
       "        vertical-align: middle;\n",
       "    }\n",
       "\n",
       "    .dataframe tbody tr th {\n",
       "        vertical-align: top;\n",
       "    }\n",
       "\n",
       "    .dataframe thead th {\n",
       "        text-align: right;\n",
       "    }\n",
       "</style>\n",
       "<table border=\"1\" class=\"dataframe\">\n",
       "  <thead>\n",
       "    <tr style=\"text-align: right;\">\n",
       "      <th></th>\n",
       "      <th>order_id</th>\n",
       "      <th>customer_id</th>\n",
       "      <th>order_date</th>\n",
       "    </tr>\n",
       "  </thead>\n",
       "  <tbody>\n",
       "    <tr>\n",
       "      <th>0</th>\n",
       "      <td>1</td>\n",
       "      <td>322</td>\n",
       "      <td>2023-08-24</td>\n",
       "    </tr>\n",
       "    <tr>\n",
       "      <th>1</th>\n",
       "      <td>2</td>\n",
       "      <td>468</td>\n",
       "      <td>2023-03-10</td>\n",
       "    </tr>\n",
       "    <tr>\n",
       "      <th>2</th>\n",
       "      <td>3</td>\n",
       "      <td>732</td>\n",
       "      <td>2023-02-14</td>\n",
       "    </tr>\n",
       "    <tr>\n",
       "      <th>3</th>\n",
       "      <td>4</td>\n",
       "      <td>75</td>\n",
       "      <td>2023-05-17</td>\n",
       "    </tr>\n",
       "    <tr>\n",
       "      <th>4</th>\n",
       "      <td>5</td>\n",
       "      <td>4</td>\n",
       "      <td>2023-08-22</td>\n",
       "    </tr>\n",
       "    <tr>\n",
       "      <th>...</th>\n",
       "      <td>...</td>\n",
       "      <td>...</td>\n",
       "      <td>...</td>\n",
       "    </tr>\n",
       "    <tr>\n",
       "      <th>9995</th>\n",
       "      <td>9996</td>\n",
       "      <td>52</td>\n",
       "      <td>2023-12-10</td>\n",
       "    </tr>\n",
       "    <tr>\n",
       "      <th>9996</th>\n",
       "      <td>9997</td>\n",
       "      <td>805</td>\n",
       "      <td>2023-12-05</td>\n",
       "    </tr>\n",
       "    <tr>\n",
       "      <th>9997</th>\n",
       "      <td>9998</td>\n",
       "      <td>520</td>\n",
       "      <td>2023-01-12</td>\n",
       "    </tr>\n",
       "    <tr>\n",
       "      <th>9998</th>\n",
       "      <td>9999</td>\n",
       "      <td>812</td>\n",
       "      <td>2023-02-21</td>\n",
       "    </tr>\n",
       "    <tr>\n",
       "      <th>9999</th>\n",
       "      <td>10000</td>\n",
       "      <td>98</td>\n",
       "      <td>2023-05-09</td>\n",
       "    </tr>\n",
       "  </tbody>\n",
       "</table>\n",
       "<p>10000 rows × 3 columns</p>\n",
       "</div>"
      ],
      "text/plain": [
       "      order_id  customer_id  order_date\n",
       "0            1          322  2023-08-24\n",
       "1            2          468  2023-03-10\n",
       "2            3          732  2023-02-14\n",
       "3            4           75  2023-05-17\n",
       "4            5            4  2023-08-22\n",
       "...        ...          ...         ...\n",
       "9995      9996           52  2023-12-10\n",
       "9996      9997          805  2023-12-05\n",
       "9997      9998          520  2023-01-12\n",
       "9998      9999          812  2023-02-21\n",
       "9999     10000           98  2023-05-09\n",
       "\n",
       "[10000 rows x 3 columns]"
      ]
     },
     "execution_count": 56,
     "metadata": {},
     "output_type": "execute_result"
    }
   ],
   "source": [
    "orders "
   ]
  },
  {
   "cell_type": "markdown",
   "id": "08da3c66-df6f-4973-8a3d-b63d4205e68b",
   "metadata": {},
   "source": [
    "top 5 cusctomer by order count"
   ]
  },
  {
   "cell_type": "code",
   "execution_count": 57,
   "id": "3114afcc-0d02-40b8-9e8b-4df0e82b1c85",
   "metadata": {},
   "outputs": [
    {
     "name": "stdout",
     "output_type": "stream",
     "text": [
      "   customer_id  total_orders\n",
      "0          726            21\n",
      "1           73            21\n",
      "2          921            19\n",
      "3          822            19\n",
      "4          825            19\n"
     ]
    }
   ],
   "source": [
    "query = \"\"\"\n",
    "select c.customer_id,count(o.order_id) AS total_orders\n",
    "from customers c\n",
    "join orders o on o.customer_id = c.customer_id\n",
    "group by customer_id\n",
    "order by total_orders desc\n",
    "limit 5;\n",
    "\"\"\"\n",
    "df = pd.read_sql(query,engine)\n",
    "print(df)\n"
   ]
  },
  {
   "cell_type": "code",
   "execution_count": 58,
   "id": "14efaa1e-9a31-4441-923b-0ca941e88912",
   "metadata": {},
   "outputs": [
    {
     "data": {
      "image/png": "[encoded data removed]",
      "text/plain": [
       "<Figure size 640x480 with 1 Axes>"
      ]
     },
     "metadata": {},
     "output_type": "display_data"
    }
   ],
   "source": [
    "df.plot(\n",
    "kind='bar',\n",
    "x='customer_id',\n",
    "y='total_orders',\n",
    "title='top 5 customers by maximum orders',\n",
    "color='magenta'\n",
    ")\n",
    "plt.xlabel('customers_id')\n",
    "plt.ylabel('total_orders')\n",
    "plt.tight_layout()\n",
    "plt.show()"
   ]
  },
  {
   "cell_type": "code",
   "execution_count": null,
   "id": "b0c6a86d-4adb-4289-b8af-7452dcf3752a",
   "metadata": {},
   "outputs": [],
   "source": []
  }
 ],
 "metadata": {
  "kernelspec": {
   "display_name": "Python 3 (ipykernel)",
   "language": "python",
   "name": "python3"
  },
  "language_info": {
   "codemirror_mode": {
    "name": "ipython",
    "version": 3
   },
   "file_extension": ".py",
   "mimetype": "text/x-python",
   "name": "python",
   "nbconvert_exporter": "python",
   "pygments_lexer": "ipython3",
   "version": "3.12.7"
  }
 },
 "nbformat": 4,
 "nbformat_minor": 5
}
